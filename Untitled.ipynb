{
 "cells": [
  {
   "cell_type": "code",
   "execution_count": 1,
   "id": "63118408-9aa1-4ec8-bc7a-1c4c892447cf",
   "metadata": {},
   "outputs": [],
   "source": [
    "import matplotlib.pyplot as plt\n",
    "import numpy as np"
   ]
  },
  {
   "cell_type": "code",
   "execution_count": 40,
   "id": "1341e37c-b7ff-4ac2-8a9f-c5af01af8df9",
   "metadata": {},
   "outputs": [],
   "source": [
    "x = 0.05 * np.random.randn(30)+5"
   ]
  },
  {
   "cell_type": "code",
   "execution_count": 41,
   "id": "4c147971-96e0-4ac3-945e-237b74ddf186",
   "metadata": {},
   "outputs": [
    {
     "data": {
      "image/png": "[encoded data removed]",
      "text/plain": [
       "<Figure size 640x480 with 1 Axes>"
      ]
     },
     "metadata": {},
     "output_type": "display_data"
    }
   ],
   "source": [
    "plt.hist(x)\n",
    "plt.show()"
   ]
  },
  {
   "cell_type": "markdown",
   "id": "1206910b-53d3-40fd-8848-ece642087cb0",
   "metadata": {},
   "source": [
    "# Arithmetischer Mittelwert von x\n",
    "\n",
    "$$ \\bar{x} = \\frac{1}{N} \\cdot (x_1 + x_2 + \\ ... \\ + x_N) = \\frac{1}{N} \\sum_{i=1}^N x_i $$"
   ]
  },
  {
   "cell_type": "code",
   "execution_count": 42,
   "id": "44456c2a-a572-4882-a41e-6a482be4c674",
   "metadata": {},
   "outputs": [
    {
     "name": "stdout",
     "output_type": "stream",
     "text": [
      "Der arithmetischer Mittelwert von x = 5.00718401910193\n"
     ]
    }
   ],
   "source": [
    "N = x.shape[0]\n",
    "xbar = x.sum()/N\n",
    "print(\"Der arithmetischer Mittelwert von x =\", xbar)"
   ]
  },
  {
   "cell_type": "markdown",
   "id": "44e8a713-e428-46cc-90af-23a38a096e73",
   "metadata": {},
   "source": [
    "**Ist es sinnvoll den Mittelwert so genau anzugeben?**"
   ]
  },
  {
   "cell_type": "markdown",
   "id": "a9d72bc6-f475-432f-b0e1-66525d34b6c2",
   "metadata": {},
   "source": [
    "# Standardabweichung des Mittelwerts"
   ]
  },
  {
   "cell_type": "markdown",
   "id": "ea0a4fd1-b37d-4bd7-b092-091369cc45cc",
   "metadata": {},
   "source": [
    "$$ u_{\\bar{x}} = \\sqrt{\\frac{\\sum_{i=1}^N \\left(x_i-\\bar{x} \\right)^2}{N \\, \\left(N-1\\right)}} $$"
   ]
  },
  {
   "cell_type": "code",
   "execution_count": 44,
   "id": "6b91c9ef-290a-41a3-82c6-cf8e686ccd6c",
   "metadata": {},
   "outputs": [
    {
     "name": "stdout",
     "output_type": "stream",
     "text": [
      "Die Standardabweichung des Mittelwerts ergibt sich zu: 0.008940652011036093\n"
     ]
    }
   ],
   "source": [
    "print(\"Die Standardabweichung des Mittelwerts ergibt sich zu:\", np.sqrt((np.sum(x**2)-N*xbar**2)/(N**2-N)))"
   ]
  },
  {
   "cell_type": "code",
   "execution_count": null,
   "id": "65f27f4b-e386-4782-ac0b-448b2ab90d40",
   "metadata": {},
   "outputs": [],
   "source": []
  }
 ],
 "metadata": {
  "kernelspec": {
   "display_name": "Python 3 (ipykernel)",
   "language": "python",
   "name": "python3"
  },
  "language_info": {
   "codemirror_mode": {
    "name": "ipython",
    "version": 3
   },
   "file_extension": ".py",
   "mimetype": "text/x-python",
   "name": "python",
   "nbconvert_exporter": "python",
   "pygments_lexer": "ipython3",
   "version": "3.10.6"
  }
 },
 "nbformat": 4,
 "nbformat_minor": 5
}
