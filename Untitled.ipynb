{
 "cells": [
  {
   "cell_type": "code",
   "execution_count": 22,
   "id": "63118408-9aa1-4ec8-bc7a-1c4c892447cf",
   "metadata": {
    "tags": []
   },
   "outputs": [],
   "source": [
    "import matplotlib.pyplot as plt\n",
    "import numpy as np\n",
    "from scipy.optimize import curve_fit"
   ]
  },
  {
   "cell_type": "code",
   "execution_count": 23,
   "id": "1341e37c-b7ff-4ac2-8a9f-c5af01af8df9",
   "metadata": {},
   "outputs": [],
   "source": [
    "x = 0.05 * np.random.randn(30)+5"
   ]
  },
  {
   "cell_type": "code",
   "execution_count": 30,
   "id": "4c147971-96e0-4ac3-945e-237b74ddf186",
   "metadata": {},
   "outputs": [
    {
     "data": {
      "image/png": "[encoded data removed]",
      "text/plain": [
       "<Figure size 640x480 with 1 Axes>"
      ]
     },
     "metadata": {},
     "output_type": "display_data"
    }
   ],
   "source": [
    "%matplotlib inline\n",
    "hist = plt.hist(x, bins=10)\n",
    "plt.show()"
   ]
  },
  {
   "cell_type": "code",
   "execution_count": 31,
   "id": "b9e0c301-415b-42ee-b535-94d6cc6d93cb",
   "metadata": {},
   "outputs": [],
   "source": [
    "def gauss(x, I0, mu, sigma):\n",
    "    return I0*np.exp(-(x-mu)**2/(2*sigma**2))"
   ]
  },
  {
   "cell_type": "code",
   "execution_count": 1,
   "id": "786e942b-197a-4400-ac91-499742c2c748",
   "metadata": {},
   "outputs": [],
   "source": [
    "hist[1]"
   ]
  },
  {
   "cell_type": "code",
   "execution_count": 28,
   "id": "57978008-1f55-4e31-bd8d-cf6d3d2fbd81",
   "metadata": {},
   "outputs": [
    {
     "ename": "ValueError",
     "evalue": "operands could not be broadcast together with shapes (11,) (10,) ",
     "output_type": "error",
     "traceback": [
      "\u001b[1;31m---------------------------------------------------------------------------\u001b[0m",
      "\u001b[1;31mValueError\u001b[0m                                Traceback (most recent call last)",
      "Cell \u001b[1;32mIn [28], line 1\u001b[0m\n\u001b[1;32m----> 1\u001b[0m param, param_cov \u001b[38;5;241m=\u001b[39m \u001b[43mcurve_fit\u001b[49m\u001b[43m(\u001b[49m\u001b[43mgauss\u001b[49m\u001b[43m,\u001b[49m\u001b[43m \u001b[49m\u001b[43mhist\u001b[49m\u001b[43m[\u001b[49m\u001b[38;5;241;43m1\u001b[39;49m\u001b[43m]\u001b[49m\u001b[43m,\u001b[49m\u001b[43m \u001b[49m\u001b[43mhist\u001b[49m\u001b[43m[\u001b[49m\u001b[38;5;241;43m0\u001b[39;49m\u001b[43m]\u001b[49m\u001b[43m)\u001b[49m\n",
      "File \u001b[1;32m~\\anaconda3\\envs\\streamlit\\lib\\site-packages\\scipy\\optimize\\_minpack_py.py:834\u001b[0m, in \u001b[0;36mcurve_fit\u001b[1;34m(f, xdata, ydata, p0, sigma, absolute_sigma, check_finite, bounds, method, jac, full_output, **kwargs)\u001b[0m\n\u001b[0;32m    831\u001b[0m \u001b[38;5;28;01mif\u001b[39;00m ydata\u001b[38;5;241m.\u001b[39msize \u001b[38;5;241m!=\u001b[39m \u001b[38;5;241m1\u001b[39m \u001b[38;5;129;01mand\u001b[39;00m n \u001b[38;5;241m>\u001b[39m ydata\u001b[38;5;241m.\u001b[39msize:\n\u001b[0;32m    832\u001b[0m     \u001b[38;5;28;01mraise\u001b[39;00m \u001b[38;5;167;01mTypeError\u001b[39;00m(\u001b[38;5;124mf\u001b[39m\u001b[38;5;124m\"\u001b[39m\u001b[38;5;124mThe number of func parameters=\u001b[39m\u001b[38;5;132;01m{\u001b[39;00mn\u001b[38;5;132;01m}\u001b[39;00m\u001b[38;5;124m must not\u001b[39m\u001b[38;5;124m\"\u001b[39m\n\u001b[0;32m    833\u001b[0m                     \u001b[38;5;124mf\u001b[39m\u001b[38;5;124m\"\u001b[39m\u001b[38;5;124m exceed the number of data points=\u001b[39m\u001b[38;5;132;01m{\u001b[39;00mydata\u001b[38;5;241m.\u001b[39msize\u001b[38;5;132;01m}\u001b[39;00m\u001b[38;5;124m\"\u001b[39m)\n\u001b[1;32m--> 834\u001b[0m res \u001b[38;5;241m=\u001b[39m leastsq(func, p0, Dfun\u001b[38;5;241m=\u001b[39mjac, full_output\u001b[38;5;241m=\u001b[39m\u001b[38;5;241m1\u001b[39m, \u001b[38;5;241m*\u001b[39m\u001b[38;5;241m*\u001b[39mkwargs)\n\u001b[0;32m    835\u001b[0m popt, pcov, infodict, errmsg, ier \u001b[38;5;241m=\u001b[39m res\n\u001b[0;32m    836\u001b[0m ysize \u001b[38;5;241m=\u001b[39m \u001b[38;5;28mlen\u001b[39m(infodict[\u001b[38;5;124m'\u001b[39m\u001b[38;5;124mfvec\u001b[39m\u001b[38;5;124m'\u001b[39m])\n",
      "File \u001b[1;32m~\\anaconda3\\envs\\streamlit\\lib\\site-packages\\scipy\\optimize\\_minpack_py.py:410\u001b[0m, in \u001b[0;36mleastsq\u001b[1;34m(func, x0, args, Dfun, full_output, col_deriv, ftol, xtol, gtol, maxfev, epsfcn, factor, diag)\u001b[0m\n\u001b[0;32m    408\u001b[0m \u001b[38;5;28;01mif\u001b[39;00m \u001b[38;5;129;01mnot\u001b[39;00m \u001b[38;5;28misinstance\u001b[39m(args, \u001b[38;5;28mtuple\u001b[39m):\n\u001b[0;32m    409\u001b[0m     args \u001b[38;5;241m=\u001b[39m (args,)\n\u001b[1;32m--> 410\u001b[0m shape, dtype \u001b[38;5;241m=\u001b[39m \u001b[43m_check_func\u001b[49m\u001b[43m(\u001b[49m\u001b[38;5;124;43m'\u001b[39;49m\u001b[38;5;124;43mleastsq\u001b[39;49m\u001b[38;5;124;43m'\u001b[39;49m\u001b[43m,\u001b[49m\u001b[43m \u001b[49m\u001b[38;5;124;43m'\u001b[39;49m\u001b[38;5;124;43mfunc\u001b[39;49m\u001b[38;5;124;43m'\u001b[39;49m\u001b[43m,\u001b[49m\u001b[43m \u001b[49m\u001b[43mfunc\u001b[49m\u001b[43m,\u001b[49m\u001b[43m \u001b[49m\u001b[43mx0\u001b[49m\u001b[43m,\u001b[49m\u001b[43m \u001b[49m\u001b[43margs\u001b[49m\u001b[43m,\u001b[49m\u001b[43m \u001b[49m\u001b[43mn\u001b[49m\u001b[43m)\u001b[49m\n\u001b[0;32m    411\u001b[0m m \u001b[38;5;241m=\u001b[39m shape[\u001b[38;5;241m0\u001b[39m]\n\u001b[0;32m    413\u001b[0m \u001b[38;5;28;01mif\u001b[39;00m n \u001b[38;5;241m>\u001b[39m m:\n",
      "File \u001b[1;32m~\\anaconda3\\envs\\streamlit\\lib\\site-packages\\scipy\\optimize\\_minpack_py.py:24\u001b[0m, in \u001b[0;36m_check_func\u001b[1;34m(checker, argname, thefunc, x0, args, numinputs, output_shape)\u001b[0m\n\u001b[0;32m     22\u001b[0m \u001b[38;5;28;01mdef\u001b[39;00m \u001b[38;5;21m_check_func\u001b[39m(checker, argname, thefunc, x0, args, numinputs,\n\u001b[0;32m     23\u001b[0m                 output_shape\u001b[38;5;241m=\u001b[39m\u001b[38;5;28;01mNone\u001b[39;00m):\n\u001b[1;32m---> 24\u001b[0m     res \u001b[38;5;241m=\u001b[39m atleast_1d(\u001b[43mthefunc\u001b[49m\u001b[43m(\u001b[49m\u001b[38;5;241;43m*\u001b[39;49m\u001b[43m(\u001b[49m\u001b[43m(\u001b[49m\u001b[43mx0\u001b[49m\u001b[43m[\u001b[49m\u001b[43m:\u001b[49m\u001b[43mnuminputs\u001b[49m\u001b[43m]\u001b[49m\u001b[43m,\u001b[49m\u001b[43m)\u001b[49m\u001b[43m \u001b[49m\u001b[38;5;241;43m+\u001b[39;49m\u001b[43m \u001b[49m\u001b[43margs\u001b[49m\u001b[43m)\u001b[49m\u001b[43m)\u001b[49m)\n\u001b[0;32m     25\u001b[0m     \u001b[38;5;28;01mif\u001b[39;00m (output_shape \u001b[38;5;129;01mis\u001b[39;00m \u001b[38;5;129;01mnot\u001b[39;00m \u001b[38;5;28;01mNone\u001b[39;00m) \u001b[38;5;129;01mand\u001b[39;00m (shape(res) \u001b[38;5;241m!=\u001b[39m output_shape):\n\u001b[0;32m     26\u001b[0m         \u001b[38;5;28;01mif\u001b[39;00m (output_shape[\u001b[38;5;241m0\u001b[39m] \u001b[38;5;241m!=\u001b[39m \u001b[38;5;241m1\u001b[39m):\n",
      "File \u001b[1;32m~\\anaconda3\\envs\\streamlit\\lib\\site-packages\\scipy\\optimize\\_minpack_py.py:485\u001b[0m, in \u001b[0;36m_wrap_func.<locals>.func_wrapped\u001b[1;34m(params)\u001b[0m\n\u001b[0;32m    484\u001b[0m \u001b[38;5;28;01mdef\u001b[39;00m \u001b[38;5;21mfunc_wrapped\u001b[39m(params):\n\u001b[1;32m--> 485\u001b[0m     \u001b[38;5;28;01mreturn\u001b[39;00m \u001b[43mfunc\u001b[49m\u001b[43m(\u001b[49m\u001b[43mxdata\u001b[49m\u001b[43m,\u001b[49m\u001b[43m \u001b[49m\u001b[38;5;241;43m*\u001b[39;49m\u001b[43mparams\u001b[49m\u001b[43m)\u001b[49m\u001b[43m \u001b[49m\u001b[38;5;241;43m-\u001b[39;49m\u001b[43m \u001b[49m\u001b[43mydata\u001b[49m\n",
      "\u001b[1;31mValueError\u001b[0m: operands could not be broadcast together with shapes (11,) (10,) "
     ]
    }
   ],
   "source": [
    "param, param_cov = curve_fit(gauss, hist[1], hist[0])"
   ]
  },
  {
   "cell_type": "markdown",
   "id": "1206910b-53d3-40fd-8848-ece642087cb0",
   "metadata": {},
   "source": [
    "# Arithmetischer Mittelwert von x\n",
    "\n",
    "$$ \\bar{x} = \\frac{1}{N} \\cdot (x_1 + x_2 + \\ ... \\ + x_N) = \\frac{1}{N} \\sum_{i=1}^N x_i $$"
   ]
  },
  {
   "cell_type": "code",
   "execution_count": 15,
   "id": "44456c2a-a572-4882-a41e-6a482be4c674",
   "metadata": {},
   "outputs": [
    {
     "name": "stdout",
     "output_type": "stream",
     "text": [
      "Der arithmetischer Mittelwert von x = 5.002464203802499\n"
     ]
    }
   ],
   "source": [
    "N = x.shape[0]\n",
    "xbar = x.sum()/N\n",
    "print(\"Der arithmetischer Mittelwert von x =\", xbar)"
   ]
  },
  {
   "cell_type": "markdown",
   "id": "44e8a713-e428-46cc-90af-23a38a096e73",
   "metadata": {},
   "source": [
    "**Ist es sinnvoll den Mittelwert so genau anzugeben?**"
   ]
  },
  {
   "cell_type": "markdown",
   "id": "a9d72bc6-f475-432f-b0e1-66525d34b6c2",
   "metadata": {},
   "source": [
    "# Standardabweichung des Mittelwerts"
   ]
  },
  {
   "cell_type": "markdown",
   "id": "ea0a4fd1-b37d-4bd7-b092-091369cc45cc",
   "metadata": {},
   "source": [
    "$$ u_{\\bar{x}} = \\sqrt{\\frac{\\sum_{i=1}^N \\left(x_i-\\bar{x} \\right)^2}{N \\, \\left(N-1\\right)}} $$"
   ]
  },
  {
   "cell_type": "code",
   "execution_count": 16,
   "id": "6b91c9ef-290a-41a3-82c6-cf8e686ccd6c",
   "metadata": {},
   "outputs": [
    {
     "name": "stdout",
     "output_type": "stream",
     "text": [
      "Die Standardabweichung des Mittelwerts ergibt sich zu: 0.010410368464670283\n"
     ]
    }
   ],
   "source": [
    "print(\"Die Standardabweichung des Mittelwerts ergibt sich zu:\", \n",
    "      np.sqrt((np.sum(x**2)-N*xbar**2)/(N**2-N)))"
   ]
  },
  {
   "cell_type": "code",
   "execution_count": null,
   "id": "65f27f4b-e386-4782-ac0b-448b2ab90d40",
   "metadata": {},
   "outputs": [],
   "source": []
  }
 ],
 "metadata": {
  "kernelspec": {
   "display_name": "Python 3.10.7 64-bit",
   "language": "python",
   "name": "python3"
  },
  "language_info": {
   "codemirror_mode": {
    "name": "ipython",
    "version": 3
   },
   "file_extension": ".py",
   "mimetype": "text/x-python",
   "name": "python",
   "nbconvert_exporter": "python",
   "pygments_lexer": "ipython3",
   "version": "3.10.7"
  },
  "toc-autonumbering": false,
  "toc-showcode": false,
  "toc-showmarkdowntxt": false,
  "vscode": {
   "interpreter": {
    "hash": "c7236404da7a2d66a0f0f8bf7497e2a019a966a26a3bda6f9067a3bbfaac4bdd"
   }
  }
 },
 "nbformat": 4,
 "nbformat_minor": 5
}
